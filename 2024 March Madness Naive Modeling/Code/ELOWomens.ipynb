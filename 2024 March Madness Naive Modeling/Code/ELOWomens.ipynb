{
 "cells": [
  {
   "cell_type": "code",
   "execution_count": null,
   "metadata": {},
   "outputs": [],
   "source": [
    "#same as ELO.ipynb but for Womens\n",
    "import pandas as pd\n",
    "import numpy as np\n",
    "import math\n",
    "from sklearn.metrics import brier_score_loss\n",
    "from collections import defaultdict\n",
    "import warnings\n",
    "from pandas.errors import SettingWithCopyWarning\n",
    "\n",
    "warnings.simplefilter(action=\"ignore\", category=SettingWithCopyWarning)\n",
    "warnings.simplefilter(action=\"ignore\", category=RuntimeWarning)\n",
    "warnings.simplefilter(action=\"ignore\", category=FutureWarning)"
   ]
  },
  {
   "cell_type": "code",
   "execution_count": null,
   "metadata": {},
   "outputs": [],
   "source": [
    "def def_elo():\n",
    "    return 1500\n",
    "tournamentchange = {\"NCAA\": 1.5, \"NIT\": 1.3, \"CBI\": 1.2, \"NIT \": 1.3, \"V16\": 1.1, \"TBC\": 1.1, \"CIT\": 1.1, \"Regular\":1}\n"
   ]
  },
  {
   "cell_type": "code",
   "execution_count": null,
   "metadata": {},
   "outputs": [],
   "source": [
    "regularseason = pd.read_csv(\"march-machine-learning-mania-2024/WRegularSeasonCompactResults.csv\")\n",
    "postseason = pd.read_csv(\"march-machine-learning-mania-2024/WNCAATourneyCompactResults.csv\")\n",
    "#conferencegames = pd.read_csv(\"march-machine-learning-mania-2024/WConferenceTourneyGames.csv\")\n",
    "#secondary = pd.read_csv(\"march-machine-learning-mania-2024/WSecondaryTourneyCompactResults.csv\")\n",
    "conferences = pd.read_csv(\"march-machine-learning-mania-2024/WTeamConferences.csv\")\n",
    "regularseason[\"scorediff\"] = regularseason[\"WScore\"] - regularseason[\"LScore\"]\n",
    "postseason[\"scorediff\"] = postseason[\"WScore\"] - postseason[\"LScore\"]\n",
    "#secondary[\"scorediff\"] = secondary[\"WScore\"] - secondary[\"LScore\"]"
   ]
  },
  {
   "cell_type": "code",
   "execution_count": null,
   "metadata": {},
   "outputs": [],
   "source": [
    "postseason[\"Tournament\"] = \"NCAA\"\n",
    "#secondary[\"Tournament\"] =  secondary[\"SecondaryTourney\"]\n",
    "regularseason[\"Tournament\"] = \"Regular\"\n",
    "#conferencegames[\"Tournament\"] = \"Conference\""
   ]
  },
  {
   "cell_type": "code",
   "execution_count": null,
   "metadata": {},
   "outputs": [],
   "source": [
    "allgames = pd.concat([postseason, regularseason])"
   ]
  },
  {
   "cell_type": "code",
   "execution_count": null,
   "metadata": {},
   "outputs": [],
   "source": [
    "allgames[\"Tournament\"].unique()\n",
    "allgames.iloc[allgames[\"Tournament\"].map(tournamentchange).argsort()]"
   ]
  },
  {
   "cell_type": "code",
   "execution_count": null,
   "metadata": {},
   "outputs": [],
   "source": [
    "def expected_score(eloa, elob, isHome, home_advantage):\n",
    "    \"\"\"\n",
    "    Gets the expected probabilty of winning for team A against team B\n",
    "    eloa: the ELO of team A\n",
    "    elob: the ELO of team B\n",
    "    isHome: number which describes whether A is home(1), neutral(0), or away(-1)\n",
    "    home_advantage: home advantage quantified in added winning odds\n",
    "    \"\"\"\n",
    "    #from eloa pov\n",
    "    expecta = 1/(1 + 10**((elob - eloa)/400)) #calculates expected\n",
    "    homeadd = expecta + home_advantage\n",
    "    awayloss = expecta - home_advantage\n",
    "    if homeadd > 1: #if more than 1 or less than 0, set to 1 and 0, respectively(edge case)\n",
    "        homeadd = 1\n",
    "    if awayloss < 0:\n",
    "        awayloss = 0\n",
    "    \n",
    "    if isHome == 1:\n",
    "        return homeadd\n",
    "    elif isHome == 0:\n",
    "        return expecta\n",
    "    else:\n",
    "        return awayloss"
   ]
  },
  {
   "cell_type": "code",
   "execution_count": null,
   "metadata": {},
   "outputs": [],
   "source": [
    "def elo_change(eloa, elob, scalar, mov, win, expected_score, mov_factor, tournament):\n",
    "    \"\"\"\n",
    "    Determines the change in elo after a result\n",
    "    \"\"\"\n",
    "    if win == 1:\n",
    "        winelodiff = eloa - elob\n",
    "    else:\n",
    "        winelodiff = elob - eloa\n",
    "    mov_factor = (math.log(mov, 10) + 1) * (2.2) * (mov_factor)/((winelodiff) * .001 + 2.2)\n",
    "    change = scalar * mov_factor * (win - expected_score) * tournamentchange[tournament]\n",
    "    return change"
   ]
  },
  {
   "cell_type": "code",
   "execution_count": null,
   "metadata": {},
   "outputs": [],
   "source": [
    "def clean_Home(WLoc):\n",
    "    if WLoc == \"H\":\n",
    "        return 1\n",
    "    elif WLoc == \"N\":\n",
    "        return 0\n",
    "    else:\n",
    "        return -1"
   ]
  },
  {
   "cell_type": "code",
   "execution_count": null,
   "metadata": {},
   "outputs": [],
   "source": [
    "regularseason[\"WLoc_Num\"] = regularseason[\"WLoc\"].apply(clean_Home)\n",
    "postseason[\"WLoc_Num\"] = postseason[\"WLoc\"].apply(clean_Home)\n",
    "allgames[\"WLoc_Num\"] = allgames[\"WLoc\"].apply(clean_Home)"
   ]
  },
  {
   "cell_type": "code",
   "execution_count": null,
   "metadata": {},
   "outputs": [],
   "source": [
    "def set_zero(df, cols):\n",
    "    for col in cols:\n",
    "        df[col] = 0\n",
    "colchange = [\"WinnerElo\", \"LoserElo\", \"WinningOdds\", \"WChange\", \"LChange\"]"
   ]
  },
  {
   "cell_type": "code",
   "execution_count": null,
   "metadata": {},
   "outputs": [],
   "source": [
    "set_zero(regularseason, colchange)\n",
    "set_zero(postseason, colchange)\n",
    "set_zero(allgames, colchange)"
   ]
  },
  {
   "cell_type": "code",
   "execution_count": null,
   "metadata": {},
   "outputs": [],
   "source": [
    "def simulate_game(elos, df, home_advantage):\n",
    "    for game in range(df.shape[0]):\n",
    "        winner = df[\"WTeamID\"][game]\n",
    "        loser = df[\"LTeamID\"][game]\n",
    "        winner_elo = elos[winner]\n",
    "        loser_elo = elos[loser]\n",
    "        df[\"WinnerElo\"][game] = float(winner_elo)\n",
    "        df[\"LoserElo\"][game] = float(loser_elo)\n",
    "        game_expected_score = expected_score(winner_elo, loser_elo, df[\"WLoc_Num\"][game], home_advantage)\n",
    "        change = elo_change(winner_elo, loser_elo, scalar, df[\"scorediff\"][game], 1, game_expected_score, mov_factor, df[\"Tournament\"][game])\n",
    "        df[\"WChange\"][game] = change\n",
    "        df[\"LChange\"][game] = -1 * change\n",
    "        elos[winner] = elos[winner] + change\n",
    "        elos[loser] = elos[loser] - change\n",
    "        df[\"WinningOdds\"][game] = game_expected_score"
   ]
  },
  {
   "cell_type": "code",
   "execution_count": null,
   "metadata": {},
   "outputs": [],
   "source": [
    "def get_conference(year, team):\n",
    "    conf = conferences[(conferences[\"Season\"] == year) & (conferences[\"TeamID\"] == team)].reset_index()\n",
    "    if conf.shape[0] >= 1:\n",
    "        return conf[\"ConfAbbrev\"][0]\n",
    "    else:\n",
    "        return \"none\"\n",
    "get_conference(2011, 3709)"
   ]
  },
  {
   "cell_type": "code",
   "execution_count": null,
   "metadata": {},
   "outputs": [],
   "source": [
    "import time\n",
    "def get_variance(iqrs, vars, means, teams, df):\n",
    "    for team in teams:\n",
    "        Wgames = df[df[\"WTeamID\"] == team]\n",
    "        Lgames = df[df[\"LTeamID\"] == team]\n",
    "        changes = pd.concat([Wgames[\"WChange\"], Lgames[\"LChange\"]], axis = 0)\n",
    "        q1 = changes.quantile(0.25)\n",
    "        q3 = changes.quantile(0.75)\n",
    "        iqrs[team] = q3 - q1\n",
    "        vars[team] = changes.std()\n",
    "        means[team] = changes.median()\n",
    "def apply_variance(iqrs, vars, means, df):\n",
    "    for game in range(df.shape[0]):\n",
    "        df[\"WIQR\"][game] = iqrs[df[\"WTeamID\"][game]]\n",
    "        df[\"LIQR\"][game] = iqrs[df[\"LTeamID\"][game]]\n",
    "        df[\"WSD\"][game] = vars[df[\"WTeamID\"][game]]\n",
    "        df[\"LSD\"][game] = vars[df[\"LTeamID\"][game]]\n",
    "        df[\"WMedian\"][game] = means[df[\"WTeamID\"][game]]\n",
    "        df[\"LMedian\"][game] = means[df[\"LTeamID\"][game]]"
   ]
  },
  {
   "cell_type": "code",
   "execution_count": null,
   "metadata": {},
   "outputs": [],
   "source": [
    "scalar = 10\n",
    "mov_factor = 1\n",
    "difference = 0.1\n",
    "from copy import copy\n",
    "def test_elo(scalar, mov_factor):\n",
    "    count = 0\n",
    "    brier_scores = []\n",
    "    no_tournyelos = defaultdict(def_elo)\n",
    "    elodf = pd.DataFrame()\n",
    "    alltourneyelodf = pd.DataFrame()\n",
    "    notourneyelodf = pd.DataFrame()\n",
    "    global_iqrs = {}\n",
    "    global_vars = {}\n",
    "    global_means = {}\n",
    "    for seasons in pd.unique(regularseason[\"Season\"]):\n",
    "        #print(seasons)\n",
    "        season = regularseason[regularseason[\"Season\"] == seasons].reset_index()\n",
    "        tournament = postseason[postseason[\"Season\"] == seasons].reset_index()\n",
    "        wholeseason = allgames[allgames[\"Season\"] == seasons].reset_index()\n",
    "        wholeseason = wholeseason.iloc[wholeseason[\"Tournament\"].map(tournamentchange).argsort()]\n",
    "        home_winning = season[season[\"WLoc_Num\"] == 1].shape[0] / (season[season[\"WLoc_Num\"] == 1].shape[0] + season[season[\"WLoc_Num\"] == -1].shape[0])\n",
    "        home_advantage = home_winning - 0.5 \n",
    "        tournament[\"True\"] = 1\n",
    "        tournyelos = copy(no_tournyelos)\n",
    "        seasonteams = pd.concat([season[\"WTeamID\"], season[\"LTeamID\"]], axis = 0)\n",
    "        simulate_game(no_tournyelos, season, home_advantage)\n",
    "        simulate_game(tournyelos, wholeseason, home_advantage)\n",
    "        get_variance(global_iqrs, global_vars, global_means, seasonteams.unique(), season)\n",
    "        pretournament = copy(no_tournyelos)\n",
    "        set_zero(tournament, [\"WSD\", \"WIQR\", \"LSD\", \"LIQR\", \"WMedian\", \"LMedian\"])\n",
    "        \n",
    "        if tournament.shape[0] > 0:\n",
    "            iqrs = {}\n",
    "            vars = {}\n",
    "            means = {}\n",
    "            teams = pd.concat([tournament[\"WTeamID\"], tournament[\"LTeamID\"]], axis = 0)\n",
    "            get_variance(iqrs, vars, means, teams.unique(), season)\n",
    "            apply_variance(iqrs, vars, means, tournament)\n",
    "            simulate_game(no_tournyelos, tournament, home_advantage)\n",
    "            brier_scores.append(brier_score_loss(tournament[\"True\"], tournament[\"WinningOdds\"]))\n",
    "            elodf = pd.concat([elodf, tournament], ignore_index = True)\n",
    "        alltourneyelodf = pd.concat([alltourneyelodf, wholeseason], ignore_index = True)\n",
    "        notourneyelodf = pd.concat([notourneyelodf, season])\n",
    "        conferencemeans = {}\n",
    "        conferencemeans[\"none\"] = 1500\n",
    "        no_tournyelos = copy(tournyelos)\n",
    "        \n",
    "        for key in no_tournyelos:\n",
    "            #print(seasons, key)\n",
    "            keyconf = get_conference(seasons, key)\n",
    "            if keyconf not in conferencemeans and keyconf != \"none\":\n",
    "                conferenceteams = conferences[(conferences[\"ConfAbbrev\"] == keyconf) & (conferences[\"Season\"] == seasons)].reset_index()\n",
    "                conferenceelos = []\n",
    "                for team in conferenceteams[\"TeamID\"].unique():\n",
    "                    conferenceelos.append(no_tournyelos[team])\n",
    "                conferencemeans[keyconf] = np.mean(conferenceelos)\n",
    "            conferencemean = conferencemeans[keyconf]\n",
    "            if no_tournyelos[key] > conferencemean:\n",
    "                no_tournyelos[key] = no_tournyelos[key] - (abs(no_tournyelos[key] - conferencemean))/4\n",
    "            elif no_tournyelos[key] < conferencemean:\n",
    "                no_tournyelos[key] = no_tournyelos[key] + (abs(no_tournyelos[key] - conferencemean))/4\n",
    "    #return np.mean(brier_scores), [scalar, mov_factor, np.mean(brier_scores)]\n",
    "    return elodf, alltourneyelodf, notourneyelodf, no_tournyelos, pretournament, global_iqrs, global_vars, global_means\n"
   ]
  },
  {
   "cell_type": "code",
   "execution_count": null,
   "metadata": {},
   "outputs": [],
   "source": [
    "elodf, alltourneyelodf, notourneyelodf, tournyelos, pretournament, global_iqrs,global_vars, global_means = test_elo(4.2, 5.8) \n",
    "\n",
    "#output.to_csv(\"ELO.csv\", index = False)"
   ]
  },
  {
   "cell_type": "code",
   "execution_count": null,
   "metadata": {},
   "outputs": [],
   "source": [
    "max(tournyelos)"
   ]
  },
  {
   "cell_type": "code",
   "execution_count": null,
   "metadata": {},
   "outputs": [],
   "source": [
    "from heapq import nlargest\n",
    "nlargest(10, tournyelos, key=tournyelos.get)\n",
    "#max(tournyelos, key=tournyelos.get)"
   ]
  },
  {
   "cell_type": "code",
   "execution_count": null,
   "metadata": {},
   "outputs": [],
   "source": [
    "difference = 1\n",
    "smallest_brier = 1\n",
    "smallest_coord = []\n",
    "coordinates = []\n",
    "for scalar in np.arange(4.1, 4.3, 0.01):\n",
    "    for mov_factor in np.arange(5.7, 5.9, 0.01):\n",
    "        avg_brier, coord = test_elo(scalar, mov_factor)\n",
    "        if avg_brier < smallest_brier:\n",
    "            smallest_brier = avg_brier\n",
    "            smallest_coord = coord\n",
    "        coordinates.append(coord)\n",
    "        print(avg_brier, coord)\n",
    "print(smallest_brier)\n",
    "print(smallest_coord)\n",
    "print(coordinates) #scalar = 4.2, mov_factor = 5.8\n"
   ]
  },
  {
   "cell_type": "code",
   "execution_count": null,
   "metadata": {},
   "outputs": [],
   "source": [
    "elos = pd.DataFrame.from_dict(tournyelos,orient='index', columns=['ELO'])\n",
    "elos.index.name = \"Team\"\n",
    "elos = elos.reset_index()"
   ]
  },
  {
   "cell_type": "code",
   "execution_count": null,
   "metadata": {},
   "outputs": [],
   "source": [
    "elos_vars = pd.DataFrame.from_dict(global_vars,orient='index', columns=['VARS'])\n",
    "elos_vars.index.name = \"Team\"\n",
    "elos_vars = elos_vars.reset_index()"
   ]
  },
  {
   "cell_type": "code",
   "execution_count": null,
   "metadata": {},
   "outputs": [],
   "source": [
    "elos_iqr = pd.DataFrame.from_dict(global_iqrs,orient='index', columns=['IQR'])\n",
    "elos_iqr.index.name = \"Team\"\n",
    "elos_iqr = elos_iqr.reset_index()"
   ]
  },
  {
   "cell_type": "code",
   "execution_count": null,
   "metadata": {},
   "outputs": [],
   "source": [
    "elos_means = pd.DataFrame.from_dict(global_means,orient='index', columns=['MEAN'])\n",
    "elos_means.index.name = \"Team\"\n",
    "elos_means = elos_means.reset_index()"
   ]
  },
  {
   "cell_type": "code",
   "execution_count": null,
   "metadata": {},
   "outputs": [],
   "source": [
    "elocombined = pd.merge(elos, elos_vars, on = \"Team\")\n",
    "elocombined = pd.merge(elocombined, elos_means, on = \"Team\")\n",
    "elocombined = pd.merge(elocombined, elos_iqr, on = \"Team\")\n",
    "elocombined.to_csv(\"2024WElos.csv\", index = False)"
   ]
  },
  {
   "cell_type": "code",
   "execution_count": null,
   "metadata": {},
   "outputs": [],
   "source": [
    "def get_variance(iqrs, vars, means, teams, df):\n",
    "    for team in teams:\n",
    "        Wgames = df[df[\"WTeamID\"] == team]\n",
    "        Lgames = df[df[\"LTeamID\"] == team]\n",
    "        changes = pd.concat([Wgames[\"WChange\"], Lgames[\"LChange\"]], axis = 0)\n",
    "        q1 = changes.quantile(0.25)\n",
    "        q3 = changes.quantile(0.75)\n",
    "        iqrs[team] = q3 - q1\n",
    "        vars[team] = changes.std()\n",
    "        means[team] = changes.median()\n",
    "allgames[\"WTeamID\"].unique()"
   ]
  },
  {
   "cell_type": "code",
   "execution_count": null,
   "metadata": {},
   "outputs": [],
   "source": [
    "iqrs = {}\n",
    "vars = {}\n",
    "means = {}\n",
    "get_variance(iqrs, vars, means,allgames[\"WTeamID\"].unique() , allgames)"
   ]
  }
 ],
 "metadata": {
  "kernelspec": {
   "display_name": "base",
   "language": "python",
   "name": "python3"
  },
  "language_info": {
   "codemirror_mode": {
    "name": "ipython",
    "version": 3
   },
   "file_extension": ".py",
   "mimetype": "text/x-python",
   "name": "python",
   "nbconvert_exporter": "python",
   "pygments_lexer": "ipython3",
   "version": "3.11.7"
  }
 },
 "nbformat": 4,
 "nbformat_minor": 2
}
