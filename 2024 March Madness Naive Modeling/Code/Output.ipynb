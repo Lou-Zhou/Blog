{
 "cells": [
  {
   "cell_type": "code",
   "execution_count": null,
   "metadata": {},
   "outputs": [],
   "source": [
    "import pandas as pd\n",
    "import numpy as np\n",
    "import math\n",
    "from sklearn.metrics import brier_score_loss\n",
    "from sklearn.metrics import log_loss\n",
    "from collections import defaultdict\n",
    "import warnings\n",
    "from pandas.errors import SettingWithCopyWarning\n",
    "import re\n",
    "\n",
    "warnings.simplefilter(action=\"ignore\", category=SettingWithCopyWarning)\n",
    "postseason = pd.read_csv(\"csvs/MNCAATourneyCompactResults.csv\")\n",
    "seeds = pd.read_csv(\"csvs/MNCAATourneySeeds.csv\")\n",
    "seeds2024 = pd.read_csv(\"csvs/actual_2024_tourney_seeds.csv\")\n",
    "regularseason = pd.read_csv(\"2024MarchMadness/csvs/MRegularSeasonCompactResults.csv\") #importing csvs, switch with mens to get mens output\n",
    "elos = pd.read_csv(\"csvs/2024Elos.csv\")\n",
    "postseason[\"scorediff\"] = postseason[\"WScore\"] - postseason[\"LScore\"]\n",
    "postseasonseeds = pd.merge(postseason, seeds, left_on = [\"WTeamID\", \"Season\"], right_on = [\"TeamID\", \"Season\"]).rename(columns={\"Season_x\": \"Season\", \"Seed\": \"WSeed\"}).drop(columns = [\"TeamID\"])\n",
    "postseasonseeds = pd.merge(postseasonseeds, seeds, left_on = [\"LTeamID\", \"Season\"], right_on = [\"TeamID\", \"Season\"]).rename(columns={\"Season_x\": \"Season\", \"Seed\": \"LSeed\"}).drop(columns = [\"TeamID\"])\n",
    "postseasonseeds[\"WSeed\"] = postseasonseeds[\"WSeed\"].str.extract('(\\d+)').astype(int)\n",
    "postseasonseeds[\"LSeed\"] = postseasonseeds[\"LSeed\"].str.extract('(\\d+)').astype(int)#general cleaning"
   ]
  },
  {
   "cell_type": "code",
   "execution_count": null,
   "metadata": {},
   "outputs": [],
   "source": [
    "def get_winning_percentage(winseed, loseseed):\n",
    "    \"\"\"\n",
    "    Gets winning percentage of winseed against loseseed\n",
    "    get_winning_percentage(winseed, loseseed) = 1 - get_winning_percentage(loseseed, winseed)\n",
    "    \"\"\"\n",
    "    winsseeddf = postseasonseeds[(postseasonseeds[\"WSeed\"] == winseed) & (postseasonseeds[\"LSeed\"] == loseseed)]\n",
    "    losesseeddf = postseasonseeds[(postseasonseeds[\"WSeed\"] == loseseed) & (postseasonseeds[\"LSeed\"] == winseed)]\n",
    "    wins = winsseeddf.shape[0]\n",
    "    loses = losesseeddf.shape[0]\n",
    "    diff = winseed - loseseed\n",
    "    if wins + loses == 0:\n",
    "        if diff > 0: #loseseed higher\n",
    "            return get_winning_percentage(winseed, loseseed + 1)\n",
    "        else: #winseed higher\n",
    "            return get_winning_percentage(winseed + 1, loseseed)\n",
    "    if wins + loses >= 1:\n",
    "        if wins / (wins + loses) == 1:\n",
    "            return (wins / (wins + loses)) - (0.1 / get_num(winseed, loseseed))\n",
    "        elif wins / (wins + loses) == 0:\n",
    "            return (wins / (wins + loses)) + (0.1 / get_num(winseed, loseseed))\n",
    "        else:\n",
    "            return (wins / (wins + loses))\n",
    "def get_num(winseed, loseseed):\n",
    "    \"\"\"\n",
    "    Gets number of matchups between two seeds\n",
    "    \"\"\"\n",
    "    winsseeddf = postseasonseeds[(postseasonseeds[\"WSeed\"] == winseed) & (postseasonseeds[\"LSeed\"] == loseseed)]\n",
    "    losesseeddf = postseasonseeds[(postseasonseeds[\"WSeed\"] == loseseed) & (postseasonseeds[\"LSeed\"] == winseed)]\n",
    "    wins = winsseeddf.shape[0]\n",
    "    loses = losesseeddf.shape[0]\n",
    "    return wins + loses"
   ]
  },
  {
   "cell_type": "code",
   "execution_count": null,
   "metadata": {},
   "outputs": [],
   "source": [
    "data = pd.DataFrame(columns = range(1,17), index=range(1,17))\n",
    "#getting all seed combinations\n",
    "for seed_1 in range(1, 17):\n",
    "    results = []\n",
    "    for seed_2 in range(1, 17):\n",
    "        win_percent = get_winning_percentage(seed_1, seed_2)\n",
    "        print(seed_1, seed_2)\n",
    "        print(win_percent)\n",
    "        results.append(win_percent)\n",
    "    data[seed_1] = results"
   ]
  },
  {
   "cell_type": "code",
   "execution_count": null,
   "metadata": {},
   "outputs": [],
   "source": [
    "import seaborn\n",
    "import matplotlib.pyplot as plt\n",
    "seaborn.heatmap(data, cmap =seaborn.cm.rocket_r)\n",
    "plt.xlabel('Winning Seed')#heatmap\n",
    "plt.ylabel('Losing Seed')"
   ]
  },
  {
   "cell_type": "code",
   "execution_count": null,
   "metadata": {},
   "outputs": [],
   "source": [
    "submission = pd.read_csv(\"2024MarchMadness/csvs/SampleSubmission2023.csv\") #preparing submission csv\n",
    "submission['Season'] = submission['ID'].apply(lambda x: int(x.split('_')[0]))\n",
    "submission[\"T1_TeamID\"] = submission['ID'].apply(lambda x: int(x.split('_')[1]))\n",
    "submission[\"T2_TeamID\"] = submission['ID'].apply(lambda x: int(x.split('_')[2]))\n",
    "submission.head()"
   ]
  },
  {
   "cell_type": "code",
   "execution_count": null,
   "metadata": {},
   "outputs": [],
   "source": [
    "elos[\"Team\"].sort_values()\n",
    "submission[submission[\"T1_TeamID\"].isin(elos[\"Team\"])]\n",
    "seeds2024[\"OriginalSeed\"] = seeds2024[\"Seed\"].str.extract('(\\d+)').astype(int)\n",
    "seeds2024 = seeds2024[[\"TeamID\", \"OriginalSeed\"]]\n",
    "eloseed = pd.merge(elos, seeds2024, left_on = \"Team\", right_on = \"TeamID\").drop(columns = [\"Team\"])\n",
    "#more cleaning"
   ]
  },
  {
   "cell_type": "code",
   "execution_count": null,
   "metadata": {},
   "outputs": [],
   "source": [
    "submission_T1 = pd.merge(submission, eloseed, left_on = \"T1_TeamID\", right_on = \"TeamID\").rename(columns = {\"ELO\":\"T1ELO\", \"VARS\":\"T1VARS\",\"OriginalSeed\":\"T1Seed\", \"MEAN\":\"T1MEAN\", \"IQR\":\"T1IQR\"})\n",
    "submissionboth = pd.merge(submission_T1, eloseed, left_on = \"T2_TeamID\", right_on = \"TeamID\").rename(columns = {\"ELO\":\"T2ELO\", \"VARS\":\"T2VARS\",\"OriginalSeed\":\"T2Seed\", \"MEAN\":\"T2MEAN\", \"IQR\":\"T2IQR\"})\n",
    "submissionboth[\"BasePercent\"] = submissionboth.apply(lambda x: get_winning_percentage(x['T1Seed'], x['T2Seed']), axis=1)\n",
    "submissionboth[\"NumTimes\"] = submissionboth.apply(lambda x: get_num(x['T1Seed'], x['T2Seed']), axis=1)\n",
    "#more cleaning!"
   ]
  },
  {
   "cell_type": "code",
   "execution_count": null,
   "metadata": {},
   "outputs": [],
   "source": [
    "def expected_score(eloa, elob, isHome, home_advantage):\n",
    "    \"\"\"\n",
    "    Gets the expected probabilty of winning for team A against team B\n",
    "    eloa: the ELO of team A\n",
    "    elob: the ELO of team B\n",
    "    isHome: number which describes whether A is home(1), neutral(0), or away(-1)\n",
    "    home_advantage: home advantage quantified in added winning odds\n",
    "    \"\"\"\n",
    "    #from eloa pov\n",
    "    expecta = 1/(1 + 10**((elob - eloa)/400)) #calculates expected\n",
    "    homeadd = expecta + home_advantage\n",
    "    awayloss = expecta - home_advantage\n",
    "    if homeadd > 1: #if more than 1 or less than 0, set to 1 and 0, respectively(edge case)\n",
    "        homeadd = 1\n",
    "    if awayloss < 0:\n",
    "        awayloss = 0\n",
    "    \n",
    "    if isHome == 1:\n",
    "        return homeadd\n",
    "    elif isHome == 0:\n",
    "        return expecta\n",
    "    else:\n",
    "        return awayloss"
   ]
  },
  {
   "cell_type": "code",
   "execution_count": null,
   "metadata": {},
   "outputs": [],
   "source": [
    "submissionboth[\"EloPercent\"] = submissionboth.apply(lambda x: expected_score(x['T1ELO'], x['T2ELO'], 0, 0), axis=1)\n",
    "submissionboth[\"BaseVariance\"] = submissionboth[\"BasePercent\"] * (1 - submissionboth[\"BasePercent\"])  #winner\n",
    "submissionboth[\"BaseWeight\"] = submissionboth[\"NumTimes\"] / submissionboth[\"BaseVariance\"] #winner\n",
    "submissionboth.loc[submissionboth['BaseWeight'] > 2000, \"BaseWeight\"] = 2000\n",
    "submissionboth[\"SDDiff\"] = (submissionboth[\"T1VARS\"] + submissionboth[\"T2VARS\"]) / 2\n",
    "submissionboth[\"SDDiffNorm\"] = 1 / submissionboth[\"SDDiff\"]\n",
    "submissionboth[\"SDDiffNorm\"] = (submissionboth[\"SDDiff\"] - submissionboth[\"SDDiff\"].min()) / (submissionboth[\"SDDiff\"].max() - submissionboth[\"SDDiff\"].min()) + 1\n",
    "submissionboth[\"BaseWeightNorm\"] = (submissionboth[\"BaseWeight\"] - submissionboth[\"BaseWeight\"].min()) / (submissionboth[\"BaseWeight\"].max() - submissionboth[\"BaseWeight\"].min()) + 1\n",
    "submissionboth[\"RTTMPrediction\"] = (submissionboth[\"BaseWeightNorm\"] * submissionboth[\"BasePercent\"] + submissionboth[\"SDDiffNorm\"] * submissionboth[\"EloPercent\"]) / (submissionboth[\"BaseWeightNorm\"] + submissionboth[\"SDDiffNorm\"])\n",
    "#getting weights and values of model, making a prediction"
   ]
  },
  {
   "cell_type": "code",
   "execution_count": null,
   "metadata": {},
   "outputs": [],
   "source": [
    "submissionbothfinal = submissionboth[[\"ID\",\"RTTMPrediction\"]].rename(columns = {\"RTTMPrediction\":\"Pred\"})#cleaning\n",
    "submissionbothfinal.to_csv(\"WSubmission_New.csv\", index = False)"
   ]
  },
  {
   "cell_type": "code",
   "execution_count": null,
   "metadata": {},
   "outputs": [],
   "source": [
    "mens = pd.read_csv(\"2024MarchMadness/csvs/MTeams.csv\")\n",
    "womens = pd.read_csv(\"2024MarchMadness/csvs/WTeams.csv\")\n",
    "welos = pd.read_csv(\"2024MarchMadness/csvs/2024WElos.csv\")\n",
    "mens_rank = pd.merge(elos, mens, left_on = [\"Team\"], right_on = [\"TeamID\"])\n",
    "womens_rank = pd.merge(welos, womens, left_on = [\"Team\"], right_on = [\"TeamID\"])\n",
    "mens_rank.sort_values(by=['ELO'], ascending=False)\n",
    "womens_rank.sort_values(by=['ELO'], ascending=False) #getting ELO rankings by writeup"
   ]
  },
  {
   "cell_type": "code",
   "execution_count": null,
   "metadata": {},
   "outputs": [],
   "source": [
    "monte = pd.read_csv(\"2024MarchMadness/csvs/submission.csv\")\n",
    "seeds = pd.read_csv(\"2024MarchMadness/csvs/actual_2024_tourney_seeds.csv\")\n",
    "monte = pd.merge(monte, seeds, left_on = [\"Team\", \"Tournament\"], right_on = [\"Seed\", \"Tournament\"])\n",
    "mens = monte[monte[\"Tournament\"] == \"M\"]\n",
    "womens = monte[monte[\"Tournament\"] == \"W\"]\n",
    "mens = mens[[\"Bracket\",\"Slot\", \"Team\", \"Tournament\", \"TeamID\"]]\n",
    "womens = womens[[\"Bracket\", \"Slot\", \"Team\", \"Tournament\", \"TeamID\"]]\n",
    "womensteams = pd.read_csv(\"2024MarchMadness/csvs/WTeams.csv\")\n",
    "mensteams = pd.read_csv(\"2024MarchMadness/csvs/MTeams.csv\")\n",
    "womens = pd.merge(womens, womensteams, on = \"TeamID\")\n",
    "mens = pd.merge(mens, mensteams, on = \"TeamID\")\n",
    "slots = pd.unique(womens[\"Slot\"])\n",
    "slots.sort()#analysis for writeup"
   ]
  }
 ],
 "metadata": {
  "kernelspec": {
   "display_name": "base",
   "language": "python",
   "name": "python3"
  },
  "language_info": {
   "codemirror_mode": {
    "name": "ipython",
    "version": 3
   },
   "file_extension": ".py",
   "mimetype": "text/x-python",
   "name": "python",
   "nbconvert_exporter": "python",
   "pygments_lexer": "ipython3",
   "version": "3.11.7"
  }
 },
 "nbformat": 4,
 "nbformat_minor": 2
}
